{
 "cells": [
  {
   "cell_type": "markdown",
   "metadata": {},
   "source": [
    "# Our Data-driven Development\n",
    "\n",
    "Originally we planned to analyze our data in conjunction with facial recognition APIs. We stored pictures of ourselves using a quick an dirty [Node.js script](https://gist.github.com/aaronkh/add182a3b12a2a5b3d3487b54a93b7c9), then we were left with the data below. Unfortunately, we couldn't get to analyzing the data in time, but feel free to look at the cleaning process below. "
   ]
  },
  {
   "cell_type": "code",
   "execution_count": 167,
   "metadata": {},
   "outputs": [],
   "source": [
    "import pandas as pd\n",
    "import matplotlib.pyplot as plt\n",
    "import requests\n",
    "from IPython.core.display import display, HTML\n",
    "import json\n",
    "import seaborn as sns\n",
    "import numpy as np\n",
    "\n",
    "pd.options.mode.chained_assignment = None "
   ]
  },
  {
   "cell_type": "markdown",
   "metadata": {},
   "source": [
    "# Data Cleaning\n",
    "This is a snapshot of our raw data. It was uploaded to an Azure server for NLP and facial recognition APIs."
   ]
  },
  {
   "cell_type": "code",
   "execution_count": null,
   "metadata": {},
   "outputs": [],
   "source": [
    "# We pull the table\n",
    "raw_tsv = requests.get('https://hacktech-2020.azurewebsites.net/data.csv').text\n",
    "with open('data.csv', 'w+') as f:\n",
    "    f.write(raw_tsv)\n",
    "    f.close()"
   ]
  },
  {
   "cell_type": "code",
   "execution_count": 146,
   "metadata": {},
   "outputs": [
    {
     "data": {
      "text/html": [
       "<div>\n",
       "<style scoped>\n",
       "    .dataframe tbody tr th:only-of-type {\n",
       "        vertical-align: middle;\n",
       "    }\n",
       "\n",
       "    .dataframe tbody tr th {\n",
       "        vertical-align: top;\n",
       "    }\n",
       "\n",
       "    .dataframe thead th {\n",
       "        text-align: right;\n",
       "    }\n",
       "</style>\n",
       "<table border=\"1\" class=\"dataframe\">\n",
       "  <thead>\n",
       "    <tr style=\"text-align: right;\">\n",
       "      <th></th>\n",
       "      <th>0</th>\n",
       "      <th>1</th>\n",
       "      <th>2</th>\n",
       "      <th>3</th>\n",
       "      <th>4</th>\n",
       "      <th>5</th>\n",
       "    </tr>\n",
       "  </thead>\n",
       "  <tbody>\n",
       "    <tr>\n",
       "      <th>0</th>\n",
       "      <td>1583551162518</td>\n",
       "      <td>aaron</td>\n",
       "      <td>1583551162284-230606255.jpg</td>\n",
       "      <td>t</td>\n",
       "      <td>{\"documents\":[{\"id\":\"1\",\"sentiment\":\"neutral\",...</td>\n",
       "      <td>[{\"faceId\":\"9ae8eefa-9a7c-4137-8859-590a885f57...</td>\n",
       "    </tr>\n",
       "    <tr>\n",
       "      <th>1</th>\n",
       "      <td>1583563313049</td>\n",
       "      <td>aaron</td>\n",
       "      <td>1583563313575-827655847.jpg</td>\n",
       "      <td>{krystal}</td>\n",
       "      <td>{\"documents\":[{\"id\":\"1\",\"sentiment\":\"neutral\",...</td>\n",
       "      <td>[{\"faceId\":\"83405c3c-5f02-48be-b85e-81ddc158d0...</td>\n",
       "    </tr>\n",
       "    <tr>\n",
       "      <th>2</th>\n",
       "      <td>1583563364060</td>\n",
       "      <td>aaron</td>\n",
       "      <td>1583563364482-79528200.jpg</td>\n",
       "      <td>{krystal}</td>\n",
       "      <td>{\"documents\":[{\"id\":\"1\",\"sentiment\":\"neutral\",...</td>\n",
       "      <td>[{\"faceId\":\"ee6683dd-fd5b-4005-b59c-8bb99ca5df...</td>\n",
       "    </tr>\n",
       "    <tr>\n",
       "      <th>3</th>\n",
       "      <td>1583563387332</td>\n",
       "      <td>aaron</td>\n",
       "      <td>1583563387718-833058606.jpg</td>\n",
       "      <td>{krystal}</td>\n",
       "      <td>{\"documents\":[{\"id\":\"1\",\"sentiment\":\"neutral\",...</td>\n",
       "      <td>[{\"faceId\":\"b2caf758-9d55-4a4c-87c5-f64d7cca71...</td>\n",
       "    </tr>\n",
       "    <tr>\n",
       "      <th>4</th>\n",
       "      <td>1583563423251</td>\n",
       "      <td>aaron</td>\n",
       "      <td>1583563423677-886855802.jpg</td>\n",
       "      <td>{krystal}</td>\n",
       "      <td>{\"documents\":[{\"id\":\"1\",\"sentiment\":\"neutral\",...</td>\n",
       "      <td>[{\"faceId\":\"20ecd124-c47a-4ff6-b5b6-6547eff4e1...</td>\n",
       "    </tr>\n",
       "  </tbody>\n",
       "</table>\n",
       "</div>"
      ],
      "text/plain": [
       "               0      1                            2          3  \\\n",
       "0  1583551162518  aaron  1583551162284-230606255.jpg          t   \n",
       "1  1583563313049  aaron  1583563313575-827655847.jpg  {krystal}   \n",
       "2  1583563364060  aaron   1583563364482-79528200.jpg  {krystal}   \n",
       "3  1583563387332  aaron  1583563387718-833058606.jpg  {krystal}   \n",
       "4  1583563423251  aaron  1583563423677-886855802.jpg  {krystal}   \n",
       "\n",
       "                                                   4  \\\n",
       "0  {\"documents\":[{\"id\":\"1\",\"sentiment\":\"neutral\",...   \n",
       "1  {\"documents\":[{\"id\":\"1\",\"sentiment\":\"neutral\",...   \n",
       "2  {\"documents\":[{\"id\":\"1\",\"sentiment\":\"neutral\",...   \n",
       "3  {\"documents\":[{\"id\":\"1\",\"sentiment\":\"neutral\",...   \n",
       "4  {\"documents\":[{\"id\":\"1\",\"sentiment\":\"neutral\",...   \n",
       "\n",
       "                                                   5  \n",
       "0  [{\"faceId\":\"9ae8eefa-9a7c-4137-8859-590a885f57...  \n",
       "1  [{\"faceId\":\"83405c3c-5f02-48be-b85e-81ddc158d0...  \n",
       "2  [{\"faceId\":\"ee6683dd-fd5b-4005-b59c-8bb99ca5df...  \n",
       "3  [{\"faceId\":\"b2caf758-9d55-4a4c-87c5-f64d7cca71...  \n",
       "4  [{\"faceId\":\"20ecd124-c47a-4ff6-b5b6-6547eff4e1...  "
      ]
     },
     "execution_count": 146,
     "metadata": {},
     "output_type": "execute_result"
    }
   ],
   "source": [
    "df = pd.read_csv('./data.csv', sep='\\t', header=None)\n",
    "df.head() # Let's take a look at what's in our table"
   ]
  },
  {
   "cell_type": "code",
   "execution_count": 147,
   "metadata": {
    "scrolled": true
   },
   "outputs": [
    {
     "data": {
      "text/html": [
       "<div>\n",
       "<style scoped>\n",
       "    .dataframe tbody tr th:only-of-type {\n",
       "        vertical-align: middle;\n",
       "    }\n",
       "\n",
       "    .dataframe tbody tr th {\n",
       "        vertical-align: top;\n",
       "    }\n",
       "\n",
       "    .dataframe thead th {\n",
       "        text-align: right;\n",
       "    }\n",
       "</style>\n",
       "<table border=\"1\" class=\"dataframe\">\n",
       "  <thead>\n",
       "    <tr style=\"text-align: right;\">\n",
       "      <th></th>\n",
       "      <th>timestamp</th>\n",
       "      <th>author</th>\n",
       "      <th>img</th>\n",
       "      <th>message</th>\n",
       "      <th>nlp</th>\n",
       "      <th>face</th>\n",
       "    </tr>\n",
       "  </thead>\n",
       "  <tbody>\n",
       "    <tr>\n",
       "      <th>1</th>\n",
       "      <td>1583563313049</td>\n",
       "      <td>aaron</td>\n",
       "      <td>1583563313575-827655847.jpg</td>\n",
       "      <td>{krystal}</td>\n",
       "      <td>{\"documents\":[{\"id\":\"1\",\"sentiment\":\"neutral\",...</td>\n",
       "      <td>[{\"faceId\":\"83405c3c-5f02-48be-b85e-81ddc158d0...</td>\n",
       "    </tr>\n",
       "    <tr>\n",
       "      <th>2</th>\n",
       "      <td>1583563364060</td>\n",
       "      <td>aaron</td>\n",
       "      <td>1583563364482-79528200.jpg</td>\n",
       "      <td>{krystal}</td>\n",
       "      <td>{\"documents\":[{\"id\":\"1\",\"sentiment\":\"neutral\",...</td>\n",
       "      <td>[{\"faceId\":\"ee6683dd-fd5b-4005-b59c-8bb99ca5df...</td>\n",
       "    </tr>\n",
       "    <tr>\n",
       "      <th>3</th>\n",
       "      <td>1583563387332</td>\n",
       "      <td>aaron</td>\n",
       "      <td>1583563387718-833058606.jpg</td>\n",
       "      <td>{krystal}</td>\n",
       "      <td>{\"documents\":[{\"id\":\"1\",\"sentiment\":\"neutral\",...</td>\n",
       "      <td>[{\"faceId\":\"b2caf758-9d55-4a4c-87c5-f64d7cca71...</td>\n",
       "    </tr>\n",
       "    <tr>\n",
       "      <th>4</th>\n",
       "      <td>1583563423251</td>\n",
       "      <td>aaron</td>\n",
       "      <td>1583563423677-886855802.jpg</td>\n",
       "      <td>{krystal}</td>\n",
       "      <td>{\"documents\":[{\"id\":\"1\",\"sentiment\":\"neutral\",...</td>\n",
       "      <td>[{\"faceId\":\"20ecd124-c47a-4ff6-b5b6-6547eff4e1...</td>\n",
       "    </tr>\n",
       "    <tr>\n",
       "      <th>5</th>\n",
       "      <td>1583563604700</td>\n",
       "      <td>skylar</td>\n",
       "      <td>1583563605003-602064868.jpg</td>\n",
       "      <td>message</td>\n",
       "      <td>{\"documents\":[{\"id\":\"1\",\"sentiment\":\"neutral\",...</td>\n",
       "      <td>[]</td>\n",
       "    </tr>\n",
       "  </tbody>\n",
       "</table>\n",
       "</div>"
      ],
      "text/plain": [
       "       timestamp  author                          img    message  \\\n",
       "1  1583563313049   aaron  1583563313575-827655847.jpg  {krystal}   \n",
       "2  1583563364060   aaron   1583563364482-79528200.jpg  {krystal}   \n",
       "3  1583563387332   aaron  1583563387718-833058606.jpg  {krystal}   \n",
       "4  1583563423251   aaron  1583563423677-886855802.jpg  {krystal}   \n",
       "5  1583563604700  skylar  1583563605003-602064868.jpg    message   \n",
       "\n",
       "                                                 nlp  \\\n",
       "1  {\"documents\":[{\"id\":\"1\",\"sentiment\":\"neutral\",...   \n",
       "2  {\"documents\":[{\"id\":\"1\",\"sentiment\":\"neutral\",...   \n",
       "3  {\"documents\":[{\"id\":\"1\",\"sentiment\":\"neutral\",...   \n",
       "4  {\"documents\":[{\"id\":\"1\",\"sentiment\":\"neutral\",...   \n",
       "5  {\"documents\":[{\"id\":\"1\",\"sentiment\":\"neutral\",...   \n",
       "\n",
       "                                                face  \n",
       "1  [{\"faceId\":\"83405c3c-5f02-48be-b85e-81ddc158d0...  \n",
       "2  [{\"faceId\":\"ee6683dd-fd5b-4005-b59c-8bb99ca5df...  \n",
       "3  [{\"faceId\":\"b2caf758-9d55-4a4c-87c5-f64d7cca71...  \n",
       "4  [{\"faceId\":\"20ecd124-c47a-4ff6-b5b6-6547eff4e1...  \n",
       "5                                                 []  "
      ]
     },
     "execution_count": 147,
     "metadata": {},
     "output_type": "execute_result"
    }
   ],
   "source": [
    "# Rename the columns\n",
    "df.columns = ['timestamp', 'author', 'img', 'message', 'nlp',  'face']\n",
    "df = df.drop(0, axis=0)\n",
    "df.head()"
   ]
  },
  {
   "cell_type": "code",
   "execution_count": 148,
   "metadata": {},
   "outputs": [
    {
     "data": {
      "text/html": [
       "<div>\n",
       "<style scoped>\n",
       "    .dataframe tbody tr th:only-of-type {\n",
       "        vertical-align: middle;\n",
       "    }\n",
       "\n",
       "    .dataframe tbody tr th {\n",
       "        vertical-align: top;\n",
       "    }\n",
       "\n",
       "    .dataframe thead th {\n",
       "        text-align: right;\n",
       "    }\n",
       "</style>\n",
       "<table border=\"1\" class=\"dataframe\">\n",
       "  <thead>\n",
       "    <tr style=\"text-align: right;\">\n",
       "      <th></th>\n",
       "      <th>timestamp</th>\n",
       "      <th>author</th>\n",
       "      <th>img</th>\n",
       "      <th>message</th>\n",
       "      <th>nlp</th>\n",
       "      <th>face</th>\n",
       "    </tr>\n",
       "  </thead>\n",
       "  <tbody>\n",
       "    <tr>\n",
       "      <th>1</th>\n",
       "      <td>2020-03-07 06:41:53.049</td>\n",
       "      <td>aaron</td>\n",
       "      <td>1583563313575-827655847.jpg</td>\n",
       "      <td>{krystal}</td>\n",
       "      <td>{\"documents\":[{\"id\":\"1\",\"sentiment\":\"neutral\",...</td>\n",
       "      <td>[{\"faceId\":\"83405c3c-5f02-48be-b85e-81ddc158d0...</td>\n",
       "    </tr>\n",
       "    <tr>\n",
       "      <th>2</th>\n",
       "      <td>2020-03-07 06:42:44.060</td>\n",
       "      <td>aaron</td>\n",
       "      <td>1583563364482-79528200.jpg</td>\n",
       "      <td>{krystal}</td>\n",
       "      <td>{\"documents\":[{\"id\":\"1\",\"sentiment\":\"neutral\",...</td>\n",
       "      <td>[{\"faceId\":\"ee6683dd-fd5b-4005-b59c-8bb99ca5df...</td>\n",
       "    </tr>\n",
       "    <tr>\n",
       "      <th>3</th>\n",
       "      <td>2020-03-07 06:43:07.332</td>\n",
       "      <td>aaron</td>\n",
       "      <td>1583563387718-833058606.jpg</td>\n",
       "      <td>{krystal}</td>\n",
       "      <td>{\"documents\":[{\"id\":\"1\",\"sentiment\":\"neutral\",...</td>\n",
       "      <td>[{\"faceId\":\"b2caf758-9d55-4a4c-87c5-f64d7cca71...</td>\n",
       "    </tr>\n",
       "    <tr>\n",
       "      <th>4</th>\n",
       "      <td>2020-03-07 06:43:43.251</td>\n",
       "      <td>aaron</td>\n",
       "      <td>1583563423677-886855802.jpg</td>\n",
       "      <td>{krystal}</td>\n",
       "      <td>{\"documents\":[{\"id\":\"1\",\"sentiment\":\"neutral\",...</td>\n",
       "      <td>[{\"faceId\":\"20ecd124-c47a-4ff6-b5b6-6547eff4e1...</td>\n",
       "    </tr>\n",
       "    <tr>\n",
       "      <th>5</th>\n",
       "      <td>2020-03-07 06:46:44.700</td>\n",
       "      <td>skylar</td>\n",
       "      <td>1583563605003-602064868.jpg</td>\n",
       "      <td>message</td>\n",
       "      <td>{\"documents\":[{\"id\":\"1\",\"sentiment\":\"neutral\",...</td>\n",
       "      <td>[]</td>\n",
       "    </tr>\n",
       "  </tbody>\n",
       "</table>\n",
       "</div>"
      ],
      "text/plain": [
       "                timestamp  author                          img    message  \\\n",
       "1 2020-03-07 06:41:53.049   aaron  1583563313575-827655847.jpg  {krystal}   \n",
       "2 2020-03-07 06:42:44.060   aaron   1583563364482-79528200.jpg  {krystal}   \n",
       "3 2020-03-07 06:43:07.332   aaron  1583563387718-833058606.jpg  {krystal}   \n",
       "4 2020-03-07 06:43:43.251   aaron  1583563423677-886855802.jpg  {krystal}   \n",
       "5 2020-03-07 06:46:44.700  skylar  1583563605003-602064868.jpg    message   \n",
       "\n",
       "                                                 nlp  \\\n",
       "1  {\"documents\":[{\"id\":\"1\",\"sentiment\":\"neutral\",...   \n",
       "2  {\"documents\":[{\"id\":\"1\",\"sentiment\":\"neutral\",...   \n",
       "3  {\"documents\":[{\"id\":\"1\",\"sentiment\":\"neutral\",...   \n",
       "4  {\"documents\":[{\"id\":\"1\",\"sentiment\":\"neutral\",...   \n",
       "5  {\"documents\":[{\"id\":\"1\",\"sentiment\":\"neutral\",...   \n",
       "\n",
       "                                                face  \n",
       "1  [{\"faceId\":\"83405c3c-5f02-48be-b85e-81ddc158d0...  \n",
       "2  [{\"faceId\":\"ee6683dd-fd5b-4005-b59c-8bb99ca5df...  \n",
       "3  [{\"faceId\":\"b2caf758-9d55-4a4c-87c5-f64d7cca71...  \n",
       "4  [{\"faceId\":\"20ecd124-c47a-4ff6-b5b6-6547eff4e1...  \n",
       "5                                                 []  "
      ]
     },
     "execution_count": 148,
     "metadata": {},
     "output_type": "execute_result"
    }
   ],
   "source": [
    "# Cast time to something more pleasant than epoch time\n",
    "df['timestamp'] = pd.to_datetime(df.timestamp, unit=\"ms\") \n",
    "df.head()"
   ]
  },
  {
   "cell_type": "code",
   "execution_count": 149,
   "metadata": {},
   "outputs": [
    {
     "data": {
      "text/html": [
       "<div>\n",
       "<style scoped>\n",
       "    .dataframe tbody tr th:only-of-type {\n",
       "        vertical-align: middle;\n",
       "    }\n",
       "\n",
       "    .dataframe tbody tr th {\n",
       "        vertical-align: top;\n",
       "    }\n",
       "\n",
       "    .dataframe thead th {\n",
       "        text-align: right;\n",
       "    }\n",
       "</style>\n",
       "<table border=\"1\" class=\"dataframe\">\n",
       "  <thead>\n",
       "    <tr style=\"text-align: right;\">\n",
       "      <th></th>\n",
       "      <th>timestamp</th>\n",
       "      <th>author</th>\n",
       "      <th>img</th>\n",
       "      <th>message</th>\n",
       "      <th>nlp</th>\n",
       "      <th>face</th>\n",
       "    </tr>\n",
       "  </thead>\n",
       "  <tbody>\n",
       "    <tr>\n",
       "      <th>1</th>\n",
       "      <td>2020-03-07 06:41:53.049</td>\n",
       "      <td>aaron</td>\n",
       "      <td>1583563313575-827655847.jpg</td>\n",
       "      <td>{krystal}</td>\n",
       "      <td>{'positive': 0.02, 'neutral': 0.98, 'negative'...</td>\n",
       "      <td>[{\"faceId\":\"83405c3c-5f02-48be-b85e-81ddc158d0...</td>\n",
       "    </tr>\n",
       "    <tr>\n",
       "      <th>2</th>\n",
       "      <td>2020-03-07 06:42:44.060</td>\n",
       "      <td>aaron</td>\n",
       "      <td>1583563364482-79528200.jpg</td>\n",
       "      <td>{krystal}</td>\n",
       "      <td>{'positive': 0.02, 'neutral': 0.98, 'negative'...</td>\n",
       "      <td>[{\"faceId\":\"ee6683dd-fd5b-4005-b59c-8bb99ca5df...</td>\n",
       "    </tr>\n",
       "    <tr>\n",
       "      <th>3</th>\n",
       "      <td>2020-03-07 06:43:07.332</td>\n",
       "      <td>aaron</td>\n",
       "      <td>1583563387718-833058606.jpg</td>\n",
       "      <td>{krystal}</td>\n",
       "      <td>{'positive': 0.02, 'neutral': 0.98, 'negative'...</td>\n",
       "      <td>[{\"faceId\":\"b2caf758-9d55-4a4c-87c5-f64d7cca71...</td>\n",
       "    </tr>\n",
       "    <tr>\n",
       "      <th>4</th>\n",
       "      <td>2020-03-07 06:43:43.251</td>\n",
       "      <td>aaron</td>\n",
       "      <td>1583563423677-886855802.jpg</td>\n",
       "      <td>{krystal}</td>\n",
       "      <td>{'positive': 0.02, 'neutral': 0.98, 'negative'...</td>\n",
       "      <td>[{\"faceId\":\"20ecd124-c47a-4ff6-b5b6-6547eff4e1...</td>\n",
       "    </tr>\n",
       "    <tr>\n",
       "      <th>5</th>\n",
       "      <td>2020-03-07 06:46:44.700</td>\n",
       "      <td>skylar</td>\n",
       "      <td>1583563605003-602064868.jpg</td>\n",
       "      <td>message</td>\n",
       "      <td>{'positive': 0.1, 'neutral': 0.73, 'negative':...</td>\n",
       "      <td>[]</td>\n",
       "    </tr>\n",
       "  </tbody>\n",
       "</table>\n",
       "</div>"
      ],
      "text/plain": [
       "                timestamp  author                          img    message  \\\n",
       "1 2020-03-07 06:41:53.049   aaron  1583563313575-827655847.jpg  {krystal}   \n",
       "2 2020-03-07 06:42:44.060   aaron   1583563364482-79528200.jpg  {krystal}   \n",
       "3 2020-03-07 06:43:07.332   aaron  1583563387718-833058606.jpg  {krystal}   \n",
       "4 2020-03-07 06:43:43.251   aaron  1583563423677-886855802.jpg  {krystal}   \n",
       "5 2020-03-07 06:46:44.700  skylar  1583563605003-602064868.jpg    message   \n",
       "\n",
       "                                                 nlp  \\\n",
       "1  {'positive': 0.02, 'neutral': 0.98, 'negative'...   \n",
       "2  {'positive': 0.02, 'neutral': 0.98, 'negative'...   \n",
       "3  {'positive': 0.02, 'neutral': 0.98, 'negative'...   \n",
       "4  {'positive': 0.02, 'neutral': 0.98, 'negative'...   \n",
       "5  {'positive': 0.1, 'neutral': 0.73, 'negative':...   \n",
       "\n",
       "                                                face  \n",
       "1  [{\"faceId\":\"83405c3c-5f02-48be-b85e-81ddc158d0...  \n",
       "2  [{\"faceId\":\"ee6683dd-fd5b-4005-b59c-8bb99ca5df...  \n",
       "3  [{\"faceId\":\"b2caf758-9d55-4a4c-87c5-f64d7cca71...  \n",
       "4  [{\"faceId\":\"20ecd124-c47a-4ff6-b5b6-6547eff4e1...  \n",
       "5                                                 []  "
      ]
     },
     "execution_count": 149,
     "metadata": {},
     "output_type": "execute_result"
    }
   ],
   "source": [
    "# Turn raw JSON into a Python dict for sentiment analysis\n",
    "df.nlp = df.nlp.map(lambda item: json.loads(item)['documents'][0]['documentScores']) \n",
    "df.head()"
   ]
  },
  {
   "cell_type": "code",
   "execution_count": 150,
   "metadata": {
    "scrolled": true
   },
   "outputs": [
    {
     "data": {
      "text/html": [
       "<div>\n",
       "<style scoped>\n",
       "    .dataframe tbody tr th:only-of-type {\n",
       "        vertical-align: middle;\n",
       "    }\n",
       "\n",
       "    .dataframe tbody tr th {\n",
       "        vertical-align: top;\n",
       "    }\n",
       "\n",
       "    .dataframe thead th {\n",
       "        text-align: right;\n",
       "    }\n",
       "</style>\n",
       "<table border=\"1\" class=\"dataframe\">\n",
       "  <thead>\n",
       "    <tr style=\"text-align: right;\">\n",
       "      <th></th>\n",
       "      <th>timestamp</th>\n",
       "      <th>author</th>\n",
       "      <th>img</th>\n",
       "      <th>message</th>\n",
       "      <th>nlp</th>\n",
       "      <th>face</th>\n",
       "    </tr>\n",
       "  </thead>\n",
       "  <tbody>\n",
       "    <tr>\n",
       "      <th>1</th>\n",
       "      <td>2020-03-07 06:41:53.049</td>\n",
       "      <td>aaron</td>\n",
       "      <td>1583563313575-827655847.jpg</td>\n",
       "      <td>{krystal}</td>\n",
       "      <td>{'positive': 0.02, 'neutral': 0.98, 'negative'...</td>\n",
       "      <td>{'top': 131, 'left': 191, 'width': 196, 'heigh...</td>\n",
       "    </tr>\n",
       "    <tr>\n",
       "      <th>2</th>\n",
       "      <td>2020-03-07 06:42:44.060</td>\n",
       "      <td>aaron</td>\n",
       "      <td>1583563364482-79528200.jpg</td>\n",
       "      <td>{krystal}</td>\n",
       "      <td>{'positive': 0.02, 'neutral': 0.98, 'negative'...</td>\n",
       "      <td>{'top': 108, 'left': 211, 'width': 124, 'heigh...</td>\n",
       "    </tr>\n",
       "    <tr>\n",
       "      <th>3</th>\n",
       "      <td>2020-03-07 06:43:07.332</td>\n",
       "      <td>aaron</td>\n",
       "      <td>1583563387718-833058606.jpg</td>\n",
       "      <td>{krystal}</td>\n",
       "      <td>{'positive': 0.02, 'neutral': 0.98, 'negative'...</td>\n",
       "      <td>{'top': 99, 'left': 214, 'width': 115, 'height...</td>\n",
       "    </tr>\n",
       "    <tr>\n",
       "      <th>4</th>\n",
       "      <td>2020-03-07 06:43:43.251</td>\n",
       "      <td>aaron</td>\n",
       "      <td>1583563423677-886855802.jpg</td>\n",
       "      <td>{krystal}</td>\n",
       "      <td>{'positive': 0.02, 'neutral': 0.98, 'negative'...</td>\n",
       "      <td>{'top': 96, 'left': 198, 'width': 129, 'height...</td>\n",
       "    </tr>\n",
       "    <tr>\n",
       "      <th>5</th>\n",
       "      <td>2020-03-07 06:46:44.700</td>\n",
       "      <td>skylar</td>\n",
       "      <td>1583563605003-602064868.jpg</td>\n",
       "      <td>message</td>\n",
       "      <td>{'positive': 0.1, 'neutral': 0.73, 'negative':...</td>\n",
       "      <td>[]</td>\n",
       "    </tr>\n",
       "  </tbody>\n",
       "</table>\n",
       "</div>"
      ],
      "text/plain": [
       "                timestamp  author                          img    message  \\\n",
       "1 2020-03-07 06:41:53.049   aaron  1583563313575-827655847.jpg  {krystal}   \n",
       "2 2020-03-07 06:42:44.060   aaron   1583563364482-79528200.jpg  {krystal}   \n",
       "3 2020-03-07 06:43:07.332   aaron  1583563387718-833058606.jpg  {krystal}   \n",
       "4 2020-03-07 06:43:43.251   aaron  1583563423677-886855802.jpg  {krystal}   \n",
       "5 2020-03-07 06:46:44.700  skylar  1583563605003-602064868.jpg    message   \n",
       "\n",
       "                                                 nlp  \\\n",
       "1  {'positive': 0.02, 'neutral': 0.98, 'negative'...   \n",
       "2  {'positive': 0.02, 'neutral': 0.98, 'negative'...   \n",
       "3  {'positive': 0.02, 'neutral': 0.98, 'negative'...   \n",
       "4  {'positive': 0.02, 'neutral': 0.98, 'negative'...   \n",
       "5  {'positive': 0.1, 'neutral': 0.73, 'negative':...   \n",
       "\n",
       "                                                face  \n",
       "1  {'top': 131, 'left': 191, 'width': 196, 'heigh...  \n",
       "2  {'top': 108, 'left': 211, 'width': 124, 'heigh...  \n",
       "3  {'top': 99, 'left': 214, 'width': 115, 'height...  \n",
       "4  {'top': 96, 'left': 198, 'width': 129, 'height...  \n",
       "5                                                 []  "
      ]
     },
     "execution_count": 150,
     "metadata": {},
     "output_type": "execute_result"
    }
   ],
   "source": [
    "# ... do the same for face...\n",
    "json.loads(df.face[2])[0]['faceRectangle']\n",
    "df.face = df.face.map(lambda item: json.loads(item))\n",
    "df.face = df.face.map(lambda item: item[0]['faceRectangle'] if len(item) else [])\n",
    "df.head()"
   ]
  },
  {
   "cell_type": "markdown",
   "metadata": {},
   "source": [
    "As you can see all of our data exists within this table. You can check the images we got with the link below:"
   ]
  },
  {
   "cell_type": "code",
   "execution_count": 151,
   "metadata": {},
   "outputs": [
    {
     "data": {
      "text/html": [
       "<a href = https://hacktech-2020.azurewebsites.net/1583563313575-827655847.jpg>Click me!</a>"
      ],
      "text/plain": [
       "<IPython.core.display.HTML object>"
      ]
     },
     "metadata": {},
     "output_type": "display_data"
    }
   ],
   "source": [
    "image_index = 1 # Pick a number to see the image associated with the git commit\n",
    "display(HTML('<a href = https://hacktech-2020.azurewebsites.net/'+df.img[image_index]+'>Click me!</a>'))"
   ]
  },
  {
   "cell_type": "markdown",
   "metadata": {},
   "source": [
    "By the way, these are all our teammates who submitted data: "
   ]
  },
  {
   "cell_type": "code",
   "execution_count": 152,
   "metadata": {},
   "outputs": [
    {
     "data": {
      "text/plain": [
       "array(['aaron', 'skylar', 'krystalc'], dtype=object)"
      ]
     },
     "execution_count": 152,
     "metadata": {},
     "output_type": "execute_result"
    }
   ],
   "source": [
    "df['author'].unique()"
   ]
  },
  {
   "cell_type": "markdown",
   "metadata": {},
   "source": [
    "# Face Data"
   ]
  },
  {
   "cell_type": "markdown",
   "metadata": {},
   "source": [
    "Let's see what kind of face data we have:"
   ]
  },
  {
   "cell_type": "code",
   "execution_count": 153,
   "metadata": {
    "scrolled": true
   },
   "outputs": [
    {
     "data": {
      "text/plain": [
       "{'top': 131, 'left': 191, 'width': 196, 'height': 188}"
      ]
     },
     "execution_count": 153,
     "metadata": {},
     "output_type": "execute_result"
    }
   ],
   "source": [
    "face = df.loc[:, 'face']\n",
    "face[1]"
   ]
  },
  {
   "cell_type": "markdown",
   "metadata": {},
   "source": [
    "We can see that this column contains only position data. Plotting it looks like this:"
   ]
  },
  {
   "cell_type": "code",
   "execution_count": 154,
   "metadata": {
    "scrolled": true
   },
   "outputs": [
    {
     "data": {
      "image/png": "[encoded data removed]",
      "text/plain": [
       "<Figure size 432x288 with 1 Axes>"
      ]
     },
     "metadata": {
      "needs_background": "light"
     },
     "output_type": "display_data"
    }
   ],
   "source": [
    "import matplotlib.patches as patches\n",
    "max_width = max(face, key=lambda f: f['left'] + f['width'] if f else 0)\n",
    "max_width = max_width['left'] + max_width['width']\n",
    "max_height = max(face, key=lambda f: f['top'] + f['height'] if f else 0)\n",
    "max_height = max_height['top'] + max_height['height']\n",
    "\n",
    "fig = plt.figure()\n",
    "ax1 = fig.add_subplot(111)\n",
    "for f in face:\n",
    "    if f:\n",
    "        ax1.add_patch(patches.Rectangle((f['top'], f['left']), f['width'], f['height'], color=(1, 0, 0, 0.1)))\n",
    "plt.title('Face Position')\n",
    "plt.xlabel('Left Position')\n",
    "plt.ylabel('Top Position')\n",
    "plt.ylim((0, 500))\n",
    "plt.xlim((0, 500));"
   ]
  },
  {
   "cell_type": "markdown",
   "metadata": {},
   "source": [
    "It may be interesting to look at where certain team members center their face, so let's add a color"
   ]
  },
  {
   "cell_type": "code",
   "execution_count": 155,
   "metadata": {},
   "outputs": [
    {
     "data": {
      "image/png": "[encoded data removed]",
      "text/plain": [
       "<Figure size 432x288 with 1 Axes>"
      ]
     },
     "metadata": {
      "needs_background": "light"
     },
     "output_type": "display_data"
    }
   ],
   "source": [
    "fig = plt.figure()\n",
    "ax1 = fig.add_subplot(111)\n",
    "for i in range(len(face)):\n",
    "    f = face[i + 1]\n",
    "    author = df['author'][i + 1]\n",
    "    if not f:\n",
    "        continue\n",
    "    if author == 'aaron':\n",
    "        ax1.add_patch(patches.Rectangle((f['top'], f['left']), f['width'], f['height'], color=(1, 0, 0, 0.1)))\n",
    "    if author == 'krystalc':\n",
    "        ax1.add_patch(patches.Rectangle((f['top'], f['left']), f['width'], f['height'], color=(0, 1, 0, 0.5)))\n",
    "    if author == 'skylar':\n",
    "        ax1.add_patch(patches.Rectangle((f['top'], f['left']), f['width'], f['height'], color=(0, 0, 1, 1)))\n",
    "plt.legend(handles=[\n",
    "    patches.Patch(color='red', label='aaron'),\n",
    "    patches.Patch(color='green', label='krystalc'), \n",
    "    patches.Patch(color='blue', label='skylar')\n",
    "])\n",
    "plt.title('Face Position (colored by author)')\n",
    "plt.xlabel('Left Position')\n",
    "plt.ylabel('Top Position')\n",
    "plt.ylim((0, 500))\n",
    "plt.xlim((0, 500));"
   ]
  },
  {
   "cell_type": "markdown",
   "metadata": {},
   "source": [
    "As shown above, Skylar's face was undetectable in his photos as his data does not show up on the graph. Aaron's face makes up the majority of the data, and Krystal's face data is similar to Aaron's.\n",
    "\n",
    "It may also be interesting to plot the movement of faces over time. Do we get closer to the screen as time goes on? Does are face position get lower late into the night?"
   ]
  },
  {
   "cell_type": "code",
   "execution_count": 257,
   "metadata": {
    "scrolled": true
   },
   "outputs": [
    {
     "data": {
      "image/png": "[encoded data removed]",
      "text/plain": [
       "<Figure size 1080x360 with 5 Axes>"
      ]
     },
     "metadata": {
      "needs_background": "light"
     },
     "output_type": "display_data"
    }
   ],
   "source": [
    "# clean\n",
    "face_non_null_bool = face.apply(lambda i: bool(i))\n",
    "face_non_null = df[face_non_null_bool]\n",
    "face_non_null.loc[:, 'top'] = face_non_null['face'].apply(lambda i: i['top'])\n",
    "face_non_null.loc[:, 'left'] = face_non_null['face'].apply(lambda i: i['left'])\n",
    "face_non_null.loc[:, 'width'] = face_non_null['face'].apply(lambda i: i['width'])\n",
    "face_non_null.loc[:, 'height'] = face_non_null['face'].apply(lambda i: i['height'])\n",
    "\n",
    "# plot\n",
    "fig = plt.figure()\n",
    "grid = plt.GridSpec(3, 3)\n",
    "# top\n",
    "plt.subplot(grid[0, 0])\n",
    "plt.plot(face_non_null['timestamp'], face_non_null['top'])\n",
    "plt.ylabel('Top')\n",
    "plt.xticks([], [])\n",
    "# left\n",
    "plt.subplot(grid[1, 0])\n",
    "plt.plot(face_non_null['timestamp'], face_non_null['left'])\n",
    "plt.ylabel('Left')\n",
    "plt.xticks([], [])\n",
    "\n",
    "# face size\n",
    "plt.subplot(grid[2, 0])\n",
    "plt.plot(face_non_null['timestamp'], face_non_null['width'] * face_non_null['height'])\n",
    "plt.ylabel('Size')\n",
    "plt.xticks([], [])\n",
    "#distribution for height/width/size\n",
    "plt.subplot(grid[:2, 1:])\n",
    "sns.boxplot(y='variable', x='value', data=pd.melt(face_non_null[['width', 'height']]), orient='h')\n",
    "plt.ylabel('')\n",
    "plt.xlabel('')\n",
    "\n",
    "plt.subplot(grid[-1, 1:])\n",
    "sns.boxplot(face_non_null['width'] * face_non_null['height'])\n",
    "plt.ylabel('size')\n",
    "\n",
    "plt.tight_layout()\n",
    "plt.rcParams[\"figure.figsize\"] = (10,15)\n",
    "plt.show();"
   ]
  },
  {
   "cell_type": "markdown",
   "metadata": {},
   "source": [
    "### Conclusions\n",
    "Looking at our time-series graphs, we can see that there is a downward trend in both top and left face position towards the middle of the hackathon (i.e. towards the middle of the night). However, the boxplots tell us that our face data mainly lies in a range of around 20 pixels (10% of the screen), which is hardly significant enough to draw any major conclusions.     \n",
    "\n",
    "Unfortunately, Azure's Face API is quite limited. It doesn't tell us different what it thinks the person is feeling, lighting conditions, or really anything besides the size and position of the face. In the future, we might run our photos against a more sophisticated face detection algorithm to determine more interesting data points to plot. "
   ]
  },
  {
   "cell_type": "markdown",
   "metadata": {},
   "source": [
    "# NLP Data"
   ]
  },
  {
   "cell_type": "markdown",
   "metadata": {},
   "source": [
    "Again, we need to first take a look at what our data looks like:"
   ]
  },
  {
   "cell_type": "code",
   "execution_count": 285,
   "metadata": {},
   "outputs": [
    {
     "data": {
      "text/html": [
       "<div>\n",
       "<style scoped>\n",
       "    .dataframe tbody tr th:only-of-type {\n",
       "        vertical-align: middle;\n",
       "    }\n",
       "\n",
       "    .dataframe tbody tr th {\n",
       "        vertical-align: top;\n",
       "    }\n",
       "\n",
       "    .dataframe thead th {\n",
       "        text-align: right;\n",
       "    }\n",
       "</style>\n",
       "<table border=\"1\" class=\"dataframe\">\n",
       "  <thead>\n",
       "    <tr style=\"text-align: right;\">\n",
       "      <th></th>\n",
       "      <th>timestamp</th>\n",
       "      <th>message</th>\n",
       "      <th>nlp</th>\n",
       "    </tr>\n",
       "  </thead>\n",
       "  <tbody>\n",
       "    <tr>\n",
       "      <th>1</th>\n",
       "      <td>2020-03-07 06:41:53.049</td>\n",
       "      <td>{krystal}</td>\n",
       "      <td>{'positive': 0.02, 'neutral': 0.98, 'negative'...</td>\n",
       "    </tr>\n",
       "    <tr>\n",
       "      <th>2</th>\n",
       "      <td>2020-03-07 06:42:44.060</td>\n",
       "      <td>{krystal}</td>\n",
       "      <td>{'positive': 0.02, 'neutral': 0.98, 'negative'...</td>\n",
       "    </tr>\n",
       "    <tr>\n",
       "      <th>3</th>\n",
       "      <td>2020-03-07 06:43:07.332</td>\n",
       "      <td>{krystal}</td>\n",
       "      <td>{'positive': 0.02, 'neutral': 0.98, 'negative'...</td>\n",
       "    </tr>\n",
       "    <tr>\n",
       "      <th>4</th>\n",
       "      <td>2020-03-07 06:43:43.251</td>\n",
       "      <td>{krystal}</td>\n",
       "      <td>{'positive': 0.02, 'neutral': 0.98, 'negative'...</td>\n",
       "    </tr>\n",
       "    <tr>\n",
       "      <th>5</th>\n",
       "      <td>2020-03-07 06:46:44.700</td>\n",
       "      <td>message</td>\n",
       "      <td>{'positive': 0.1, 'neutral': 0.73, 'negative':...</td>\n",
       "    </tr>\n",
       "  </tbody>\n",
       "</table>\n",
       "</div>"
      ],
      "text/plain": [
       "                timestamp    message  \\\n",
       "1 2020-03-07 06:41:53.049  {krystal}   \n",
       "2 2020-03-07 06:42:44.060  {krystal}   \n",
       "3 2020-03-07 06:43:07.332  {krystal}   \n",
       "4 2020-03-07 06:43:43.251  {krystal}   \n",
       "5 2020-03-07 06:46:44.700    message   \n",
       "\n",
       "                                                 nlp  \n",
       "1  {'positive': 0.02, 'neutral': 0.98, 'negative'...  \n",
       "2  {'positive': 0.02, 'neutral': 0.98, 'negative'...  \n",
       "3  {'positive': 0.02, 'neutral': 0.98, 'negative'...  \n",
       "4  {'positive': 0.02, 'neutral': 0.98, 'negative'...  \n",
       "5  {'positive': 0.1, 'neutral': 0.73, 'negative':...  "
      ]
     },
     "execution_count": 285,
     "metadata": {},
     "output_type": "execute_result"
    }
   ],
   "source": [
    "nlp = df.loc[:, ['timestamp', 'message', 'nlp']]\n",
    "nlp.head()"
   ]
  },
  {
   "cell_type": "markdown",
   "metadata": {},
   "source": [
    "From the Azure NLP data, we can take a look at sentiment over time"
   ]
  },
  {
   "cell_type": "code",
   "execution_count": 286,
   "metadata": {},
   "outputs": [
    {
     "data": {
      "image/png": "[encoded data removed]",
      "text/plain": [
       "<Figure size 1080x360 with 1 Axes>"
      ]
     },
     "metadata": {
      "needs_background": "light"
     },
     "output_type": "display_data"
    }
   ],
   "source": [
    "# get useful features \n",
    "nlp['positive'] = nlp['nlp'].apply(lambda i: i['positive']) \n",
    "nlp['negative'] = nlp['nlp'].apply(lambda i: i['negative'])\n",
    "nlp['neutral'] = nlp['nlp'].apply(lambda i: i['neutral'])\n",
    "\n",
    "plt.plot(nlp.timestamp, nlp['positive'], label='Positive')\n",
    "plt.plot(nlp.timestamp, nlp['negative'], label='Negative')\n",
    "plt.plot(nlp.timestamp, nlp['neutral'], label='Neutral')\n",
    "\n",
    "plt.title('Sentiment Score Confidence')\n",
    "plt.ylabel('Confidence')\n",
    "plt.xlabel('Time')\n",
    "plt.legend()\n",
    "plt.rcParams[\"figure.figsize\"] = (15,5)\n",
    "plt.show();"
   ]
  },
  {
   "cell_type": "markdown",
   "metadata": {},
   "source": [
    "This graph is way too messy to say anything useful. Let's clean this up a bit. \n",
    "\n",
    "We'll use the confidence returned by the Sentiment API to get a weighted score between 0 and 1. This will return a score for each message between zero and one, with zero being the most negative and one being the most positive. This should give a better idea at the predicted sentiment than the above graph. \n",
    "```\n",
    "        1.0 * positive + 0.5 * neutral + 0.0 * negative\n",
    "score = -----------------------------------------------\n",
    "              (positive + neutral + negative)\n",
    "```\n",
    "\n",
    "(This is the formula we'll use)"
   ]
  },
  {
   "cell_type": "code",
   "execution_count": 305,
   "metadata": {
    "scrolled": true
   },
   "outputs": [
    {
     "data": {
      "image/png": "[encoded data removed]",
      "text/plain": [
       "<Figure size 1080x360 with 1 Axes>"
      ]
     },
     "metadata": {
      "needs_background": "light"
     },
     "output_type": "display_data"
    }
   ],
   "source": [
    "nlp['averaged'] = (nlp['positive'] + 0.5*nlp['neutral'])/(nlp['positive'] + nlp['neutral'] + nlp['negative'])\n",
    "plt.plot(nlp.timestamp, nlp['averaged'])\n",
    "plt.title('Sentiment score weighted by confidence')\n",
    "plt.ylabel('Score')\n",
    "plt.xlabel('Time')\n",
    "plt.show();"
   ]
  },
  {
   "cell_type": "markdown",
   "metadata": {},
   "source": [
    "As we can see from this graph, most of the scores actually fall quite close to the neutral (around 0.5). Taking a look at the what types of messages there are might explain this outcome"
   ]
  },
  {
   "cell_type": "code",
   "execution_count": 313,
   "metadata": {},
   "outputs": [
    {
     "data": {
      "text/html": [
       "<div>\n",
       "<style scoped>\n",
       "    .dataframe tbody tr th:only-of-type {\n",
       "        vertical-align: middle;\n",
       "    }\n",
       "\n",
       "    .dataframe tbody tr th {\n",
       "        vertical-align: top;\n",
       "    }\n",
       "\n",
       "    .dataframe thead th {\n",
       "        text-align: right;\n",
       "    }\n",
       "</style>\n",
       "<table border=\"1\" class=\"dataframe\">\n",
       "  <thead>\n",
       "    <tr style=\"text-align: right;\">\n",
       "      <th></th>\n",
       "      <th>message</th>\n",
       "      <th>averaged</th>\n",
       "    </tr>\n",
       "  </thead>\n",
       "  <tbody>\n",
       "    <tr>\n",
       "      <th>11</th>\n",
       "      <td>database updated</td>\n",
       "      <td>0.545</td>\n",
       "    </tr>\n",
       "    <tr>\n",
       "      <th>12</th>\n",
       "      <td>add add to queue butt</td>\n",
       "      <td>0.000</td>\n",
       "    </tr>\n",
       "    <tr>\n",
       "      <th>13</th>\n",
       "      <td>add html stuff</td>\n",
       "      <td>0.525</td>\n",
       "    </tr>\n",
       "    <tr>\n",
       "      <th>14</th>\n",
       "      <td>forgot to add files last time</td>\n",
       "      <td>0.750</td>\n",
       "    </tr>\n",
       "    <tr>\n",
       "      <th>15</th>\n",
       "      <td>move to sandbox ebay</td>\n",
       "      <td>0.515</td>\n",
       "    </tr>\n",
       "    <tr>\n",
       "      <th>16</th>\n",
       "      <td>move to sandbox ebay</td>\n",
       "      <td>0.515</td>\n",
       "    </tr>\n",
       "    <tr>\n",
       "      <th>17</th>\n",
       "      <td>files updated</td>\n",
       "      <td>0.520</td>\n",
       "    </tr>\n",
       "    <tr>\n",
       "      <th>18</th>\n",
       "      <td>files updated</td>\n",
       "      <td>0.520</td>\n",
       "    </tr>\n",
       "    <tr>\n",
       "      <th>19</th>\n",
       "      <td>files updated</td>\n",
       "      <td>0.520</td>\n",
       "    </tr>\n",
       "    <tr>\n",
       "      <th>20</th>\n",
       "      <td>added comments</td>\n",
       "      <td>0.650</td>\n",
       "    </tr>\n",
       "  </tbody>\n",
       "</table>\n",
       "</div>"
      ],
      "text/plain": [
       "                          message  averaged\n",
       "11               database updated     0.545\n",
       "12          add add to queue butt     0.000\n",
       "13                 add html stuff     0.525\n",
       "14  forgot to add files last time     0.750\n",
       "15           move to sandbox ebay     0.515\n",
       "16           move to sandbox ebay     0.515\n",
       "17                  files updated     0.520\n",
       "18                  files updated     0.520\n",
       "19                  files updated     0.520\n",
       "20                 added comments     0.650"
      ]
     },
     "execution_count": 313,
     "metadata": {},
     "output_type": "execute_result"
    }
   ],
   "source": [
    "nlp[['message', 'averaged']][10:20]"
   ]
  },
  {
   "cell_type": "code",
   "execution_count": 320,
   "metadata": {},
   "outputs": [
    {
     "data": {
      "text/plain": [
       "{krystal}                                    5\n",
       "update server order method                   3\n",
       "files updated                                3\n",
       "updated landing page with images             2\n",
       "updated post and get                         2\n",
       "move to sandbox ebay                         2\n",
       "added comments                               2\n",
       "inject js into search page ok                1\n",
       "fix missing params in login                  1\n",
       "start queue sometimes                        1\n",
       "oops forgot to add listener type             1\n",
       "add local storage                            1\n",
       "fix git                                      1\n",
       "updated enqueue                              1\n",
       "updated landing page with text               1\n",
       "add gitignore                                1\n",
       "message                                      1\n",
       "add dependencies for gcp deploy              1\n",
       "search logic DONE                            1\n",
       "fix up background.js/search.js separation    1\n",
       "add better loading animation                 1\n",
       "add login logic                              1\n",
       "database updated                             1\n",
       "more login page style fixes                  1\n",
       "forgot to add files last time                1\n",
       "inject js ok                                 1\n",
       "add html stuff                               1\n",
       "idk I went to play league                    1\n",
       "add add to queue butt                        1\n",
       "fixed folder                                 1\n",
       "finish merge                                 1\n",
       "basically only missing http calls            1\n",
       "update order method                          1\n",
       "website login                                1\n",
       "popup.html                                   1\n",
       "remove cors                                  1\n",
       "updated returns                              1\n",
       "updated button                               1\n",
       "fix syntax                                   1\n",
       "updated id                                   1\n",
       "cors manually                                1\n",
       "finish popup?                                1\n",
       "fix json for post                            1\n",
       "add cors                                     1\n",
       "add button to items page                     1\n",
       "formatting                                   1\n",
       "updated landing page                         1\n",
       "Name: message, dtype: int64"
      ]
     },
     "execution_count": 320,
     "metadata": {},
     "output_type": "execute_result"
    }
   ],
   "source": [
    "nlp['message'].value_counts()"
   ]
  },
  {
   "cell_type": "markdown",
   "metadata": {},
   "source": [
    "We can see a few interesting things:     \n",
    "1. Azure frequently gives neutral scores to messages with technical terms like html, sandbox, and files. Without context, it might be hard to know whether or not these messages are positive or negative. \n",
    "2. There are a lot of repeat messages, which could explain the flat lines in the graph.\n",
    "3. There doesn't really seem to be any noticable trend between time and predicted sentiment.\n",
    "\n",
    "Of course, sentiment analysis from the Azure API is far from perfect. It may be worthwhile to look at emotions via facial expressions to supplement the data above in the future.\n",
    "\n",
    "It may also be interesting to look at message length. Maybe we're less tempted to write longer messages later into the night?"
   ]
  },
  {
   "cell_type": "code",
   "execution_count": 288,
   "metadata": {},
   "outputs": [
    {
     "data": {
      "image/png": "[encoded data removed]",
      "text/plain": [
       "<Figure size 1080x360 with 1 Axes>"
      ]
     },
     "metadata": {
      "needs_background": "light"
     },
     "output_type": "display_data"
    }
   ],
   "source": [
    "nlp['length'] = nlp['message'].apply(lambda i: len(i))\n",
    "\n",
    "plt.plot(nlp.timestamp, nlp['length'])\n",
    "plt.title('Commit message length over time')\n",
    "plt.ylabel('Number of Characters')\n",
    "plt.xlabel('Time')\n",
    "plt.show();"
   ]
  },
  {
   "cell_type": "markdown",
   "metadata": {},
   "source": [
    "It does seem to be the case that there are shorter messages during the night. Curiously, it also resembles the \"Top\" graph from the face data above with a downward sloping trend later in the day. Let's see if this is really the case.\n",
    "\n",
    "For convenience this is what the face table looks like"
   ]
  },
  {
   "cell_type": "code",
   "execution_count": 290,
   "metadata": {},
   "outputs": [
    {
     "data": {
      "text/html": [
       "<div>\n",
       "<style scoped>\n",
       "    .dataframe tbody tr th:only-of-type {\n",
       "        vertical-align: middle;\n",
       "    }\n",
       "\n",
       "    .dataframe tbody tr th {\n",
       "        vertical-align: top;\n",
       "    }\n",
       "\n",
       "    .dataframe thead th {\n",
       "        text-align: right;\n",
       "    }\n",
       "</style>\n",
       "<table border=\"1\" class=\"dataframe\">\n",
       "  <thead>\n",
       "    <tr style=\"text-align: right;\">\n",
       "      <th></th>\n",
       "      <th>timestamp</th>\n",
       "      <th>author</th>\n",
       "      <th>img</th>\n",
       "      <th>message</th>\n",
       "      <th>nlp</th>\n",
       "      <th>face</th>\n",
       "      <th>top</th>\n",
       "      <th>left</th>\n",
       "      <th>width</th>\n",
       "      <th>height</th>\n",
       "    </tr>\n",
       "  </thead>\n",
       "  <tbody>\n",
       "    <tr>\n",
       "      <th>1</th>\n",
       "      <td>2020-03-07 06:41:53.049</td>\n",
       "      <td>aaron</td>\n",
       "      <td>1583563313575-827655847.jpg</td>\n",
       "      <td>{krystal}</td>\n",
       "      <td>{'positive': 0.02, 'neutral': 0.98, 'negative'...</td>\n",
       "      <td>{'top': 131, 'left': 191, 'width': 196, 'heigh...</td>\n",
       "      <td>131</td>\n",
       "      <td>191</td>\n",
       "      <td>196</td>\n",
       "      <td>188</td>\n",
       "    </tr>\n",
       "    <tr>\n",
       "      <th>2</th>\n",
       "      <td>2020-03-07 06:42:44.060</td>\n",
       "      <td>aaron</td>\n",
       "      <td>1583563364482-79528200.jpg</td>\n",
       "      <td>{krystal}</td>\n",
       "      <td>{'positive': 0.02, 'neutral': 0.98, 'negative'...</td>\n",
       "      <td>{'top': 108, 'left': 211, 'width': 124, 'heigh...</td>\n",
       "      <td>108</td>\n",
       "      <td>211</td>\n",
       "      <td>124</td>\n",
       "      <td>124</td>\n",
       "    </tr>\n",
       "    <tr>\n",
       "      <th>3</th>\n",
       "      <td>2020-03-07 06:43:07.332</td>\n",
       "      <td>aaron</td>\n",
       "      <td>1583563387718-833058606.jpg</td>\n",
       "      <td>{krystal}</td>\n",
       "      <td>{'positive': 0.02, 'neutral': 0.98, 'negative'...</td>\n",
       "      <td>{'top': 99, 'left': 214, 'width': 115, 'height...</td>\n",
       "      <td>99</td>\n",
       "      <td>214</td>\n",
       "      <td>115</td>\n",
       "      <td>115</td>\n",
       "    </tr>\n",
       "    <tr>\n",
       "      <th>4</th>\n",
       "      <td>2020-03-07 06:43:43.251</td>\n",
       "      <td>aaron</td>\n",
       "      <td>1583563423677-886855802.jpg</td>\n",
       "      <td>{krystal}</td>\n",
       "      <td>{'positive': 0.02, 'neutral': 0.98, 'negative'...</td>\n",
       "      <td>{'top': 96, 'left': 198, 'width': 129, 'height...</td>\n",
       "      <td>96</td>\n",
       "      <td>198</td>\n",
       "      <td>129</td>\n",
       "      <td>129</td>\n",
       "    </tr>\n",
       "    <tr>\n",
       "      <th>6</th>\n",
       "      <td>2020-03-07 06:47:36.324</td>\n",
       "      <td>aaron</td>\n",
       "      <td>1583563656650-442487788.jpg</td>\n",
       "      <td>add gitignore</td>\n",
       "      <td>{'positive': 0.05, 'neutral': 0.93, 'negative'...</td>\n",
       "      <td>{'top': 184, 'left': 221, 'width': 104, 'heigh...</td>\n",
       "      <td>184</td>\n",
       "      <td>221</td>\n",
       "      <td>104</td>\n",
       "      <td>104</td>\n",
       "    </tr>\n",
       "  </tbody>\n",
       "</table>\n",
       "</div>"
      ],
      "text/plain": [
       "                timestamp author                          img        message  \\\n",
       "1 2020-03-07 06:41:53.049  aaron  1583563313575-827655847.jpg      {krystal}   \n",
       "2 2020-03-07 06:42:44.060  aaron   1583563364482-79528200.jpg      {krystal}   \n",
       "3 2020-03-07 06:43:07.332  aaron  1583563387718-833058606.jpg      {krystal}   \n",
       "4 2020-03-07 06:43:43.251  aaron  1583563423677-886855802.jpg      {krystal}   \n",
       "6 2020-03-07 06:47:36.324  aaron  1583563656650-442487788.jpg  add gitignore   \n",
       "\n",
       "                                                 nlp  \\\n",
       "1  {'positive': 0.02, 'neutral': 0.98, 'negative'...   \n",
       "2  {'positive': 0.02, 'neutral': 0.98, 'negative'...   \n",
       "3  {'positive': 0.02, 'neutral': 0.98, 'negative'...   \n",
       "4  {'positive': 0.02, 'neutral': 0.98, 'negative'...   \n",
       "6  {'positive': 0.05, 'neutral': 0.93, 'negative'...   \n",
       "\n",
       "                                                face  top  left  width  height  \n",
       "1  {'top': 131, 'left': 191, 'width': 196, 'heigh...  131   191    196     188  \n",
       "2  {'top': 108, 'left': 211, 'width': 124, 'heigh...  108   211    124     124  \n",
       "3  {'top': 99, 'left': 214, 'width': 115, 'height...   99   214    115     115  \n",
       "4  {'top': 96, 'left': 198, 'width': 129, 'height...   96   198    129     129  \n",
       "6  {'top': 184, 'left': 221, 'width': 104, 'heigh...  184   221    104     104  "
      ]
     },
     "execution_count": 290,
     "metadata": {},
     "output_type": "execute_result"
    }
   ],
   "source": [
    "face_non_null.head()"
   ]
  },
  {
   "cell_type": "markdown",
   "metadata": {},
   "source": [
    "Let's graph length vs vertical face position just to confirm the similarity. \n",
    "\n",
    "We'll first convert both datasets to standard units just to scale both to the same axes. Then we'll create the line plot below."
   ]
  },
  {
   "cell_type": "code",
   "execution_count": 316,
   "metadata": {
    "scrolled": false
   },
   "outputs": [
    {
     "name": "stdout",
     "output_type": "stream",
     "text": [
      "Correlation coefficient: 0.3432488480462997\n"
     ]
    },
    {
     "data": {
      "image/png": "[encoded data removed]",
      "text/plain": [
       "<Figure size 1080x360 with 1 Axes>"
      ]
     },
     "metadata": {
      "needs_background": "light"
     },
     "output_type": "display_data"
    }
   ],
   "source": [
    "top = face_non_null['top']\n",
    "length = face_non_null['message'].apply(len)\n",
    "top_std = (top - np.mean(top))/np.std(top)\n",
    "length_std = (length - np.mean(length))/np.std(length)\n",
    "sns.scatterplot(top_std, length_std)\n",
    "plt.title('Top placement vs commit message length (in standard units)')\n",
    "plt.ylabel('Length')\n",
    "plt.xlabel('Top')\n",
    "print(f'Correlation coefficient: {np.corrcoef(top, length)[0][1]}')"
   ]
  },
  {
   "cell_type": "markdown",
   "metadata": {},
   "source": [
    "Unfortunately, such a low correlation corefficient suggests that our suspicions were false. There isn't really that much of a correlation between these two datasets."
   ]
  },
  {
   "cell_type": "markdown",
   "metadata": {},
   "source": [
    "### Conclusions\n",
    "Like the Face API, the Azure's language APIs are quite limited. We could not say anything too conclusive from our messages alone. We was interesting, however, was that our most common commit message was Krystal typing her name instead of adding anything useful into the log.\n"
   ]
  },
  {
   "cell_type": "markdown",
   "metadata": {},
   "source": [
    "# Next Steps"
   ]
  },
  {
   "cell_type": "markdown",
   "metadata": {},
   "source": [
    "Even though our \"experiment\" in using Azure to analyze our data was rather unfruitful today, we do still have our data from this hackathon. Here are some ideas of what we can do with the data in the future: \n",
    "* Track developer productivity in relation to the emotions they're feeling\n",
    "* (UNETHICAL) Find out what a productive developer \"looks like\" and prune a recruiting pool based on that\n",
    "* Alert users when they are sitting to close to the computer when commiting\n",
    "* Reward developers based on how helpful their git commit messages are\n",
    "\n",
    "If we collect data across multiple projects/hackathons, we might be able to do more with the aggregate data: \n",
    "* Automatically write legible commit messages in the style of an author\n",
    "* Track when a user is most productive/least tired and intelligently schedule work times around that\n",
    "* Match developers to teams using their Git data (sorting hat style)"
   ]
  }
 ],
 "metadata": {
  "kernelspec": {
   "display_name": "Python 3",
   "language": "python",
   "name": "python3"
  },
  "language_info": {
   "codemirror_mode": {
    "name": "ipython",
    "version": 3
   },
   "file_extension": ".py",
   "mimetype": "text/x-python",
   "name": "python",
   "nbconvert_exporter": "python",
   "pygments_lexer": "ipython3",
   "version": "3.8.0"
  }
 },
 "nbformat": 4,
 "nbformat_minor": 2
}
